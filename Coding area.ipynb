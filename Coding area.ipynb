{
  "nbformat": 4,
  "nbformat_minor": 0,
  "metadata": {
    "colab": {
      "provenance": []
    },
    "kernelspec": {
      "name": "python3",
      "display_name": "Python 3"
    },
    "language_info": {
      "name": "python"
    }
  },
  "cells": [
    {
      "cell_type": "code",
      "execution_count": 2,
      "metadata": {
        "id": "lHFejte6VfA8",
        "colab": {
          "base_uri": "https://localhost:8080/"
        },
        "outputId": "68b12ee9-78fb-4fda-83c1-47e74768c7f9"
      },
      "outputs": [
        {
          "output_type": "stream",
          "name": "stderr",
          "text": [
            "<ipython-input-2-327cfbd72125>:33: UserWarning: Glyph 9 (\t) missing from current font.\n",
            "  plt.savefig('operating_system_distribution.png')  # Save the figure\n"
          ]
        }
      ],
      "source": [
        "import pandas as pd\n",
        "import matplotlib.pyplot as plt\n",
        "import seaborn as sns\n",
        "\n",
        "# Load the dataset\n",
        "data_path = '/content/laptop_cleaned2.csv'\n",
        "laptop_data = pd.read_csv(data_path)\n",
        "\n",
        "# Dropping the unnecessary index column and handling missing values\n",
        "laptop_data.drop(columns=['Unnamed: 0'], inplace=True)\n",
        "laptop_data['Graphics_GB'].fillna(laptop_data['Graphics_GB'].median(), inplace=True)\n",
        "laptop_data.dropna(subset=['Processor_gen'], inplace=True)\n",
        "laptop_data['Core_per_processor'].fillna(laptop_data['Core_per_processor'].median(), inplace=True)\n",
        "laptop_data['Threads'].fillna(laptop_data['Threads'].median(), inplace=True)\n",
        "\n",
        "# Create individual plots to save as separate PNG files\n",
        "\n",
        "# Brand distribution\n",
        "plt.figure(figsize=(8, 6))\n",
        "sns.countplot(y='Brand', data=laptop_data, order=laptop_data['Brand'].value_counts().index)\n",
        "plt.title('Brand Distribution')\n",
        "plt.xlabel('Count')\n",
        "plt.ylabel('Brand')\n",
        "plt.savefig('brand_distribution.png')  # Save the figure\n",
        "plt.close()\n",
        "\n",
        "# Operating System distribution\n",
        "plt.figure(figsize=(8, 6))\n",
        "sns.countplot(y='Operating_system', data=laptop_data, order=laptop_data['Operating_system'].value_counts().index)\n",
        "plt.title('Operating System Distribution')\n",
        "plt.xlabel('Count')\n",
        "plt.ylabel('Operating System')\n",
        "plt.savefig('operating_system_distribution.png')  # Save the figure\n",
        "plt.close()\n",
        "\n",
        "# Price vs. Rating scatter plot\n",
        "plt.figure(figsize=(8, 6))\n",
        "sns.scatterplot(x='Price', y='Rating', data=laptop_data)\n",
        "plt.title('Price vs. Rating')\n",
        "plt.xlabel('Price')\n",
        "plt.ylabel('Rating')\n",
        "plt.savefig('price_vs_rating.png')  # Save the figure\n",
        "plt.close()\n",
        "\n",
        "# Correlation matrix of numerical features\n",
        "numerical_features = laptop_data.select_dtypes(include=['int64', 'float64'])\n",
        "corr_matrix = numerical_features.corr()\n",
        "plt.figure(figsize=(10, 8))\n",
        "sns.heatmap(corr_matrix, annot=True, cmap='coolwarm', fmt=\".2f\")\n",
        "plt.title('Correlation Matrix')\n",
        "plt.savefig('correlation_matrix.png')  # Save the figure\n",
        "plt.close()\n"
      ]
    }
  ]
}